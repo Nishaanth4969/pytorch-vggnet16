{
  "nbformat": 4,
  "nbformat_minor": 0,
  "metadata": {
    "colab": {
      "provenance": [],
      "authorship_tag": "ABX9TyOzVZeTs6tBJToGgQ7lOH8D",
      "include_colab_link": true
    },
    "kernelspec": {
      "name": "python3",
      "display_name": "Python 3"
    },
    "language_info": {
      "name": "python"
    }
  },
  "cells": [
    {
      "cell_type": "markdown",
      "metadata": {
        "id": "view-in-github",
        "colab_type": "text"
      },
      "source": [
        "<a href=\"https://colab.research.google.com/github/Nishaanth4969/pytorch-vggnet16/blob/main/DB2.ipynb\" target=\"_parent\"><img src=\"https://colab.research.google.com/assets/colab-badge.svg\" alt=\"Open In Colab\"/></a>"
      ]
    },
    {
      "cell_type": "code",
      "source": [
        "import numpy as np\n",
        "from sklearn.datasets import fetch_california_housing\n",
        "from sklearn.model_selection import train_test_split\n",
        "from sklearn.preprocessing import StandardScaler"
      ],
      "metadata": {
        "id": "cXtR94pTRF4t"
      },
      "execution_count": 14,
      "outputs": []
    },
    {
      "cell_type": "code",
      "source": [
        "housing = fetch_california_housing()\n",
        "X = housing.data\n",
        "y = housing.target.reshape(-1, 1)"
      ],
      "metadata": {
        "id": "gfKY6X3JTYJ6"
      },
      "execution_count": 8,
      "outputs": []
    },
    {
      "cell_type": "code",
      "source": [
        "scaler = StandardScaler()\n",
        "X = scaler.fit_transform(X)\n",
        "\n",
        "X_train, X_test, y_train, y_test = train_test_split(X, y, test_size=0.2, random_state=42)"
      ],
      "metadata": {
        "id": "f3UmSBhZVXe3"
      },
      "execution_count": 13,
      "outputs": []
    },
    {
      "cell_type": "code",
      "source": [
        "input_neurons = 8\n",
        "hidden_layer1_neurons = 5\n",
        "hidden_layer2_neurons = 3\n",
        "output_neurons = 1\n",
        "\n",
        "\n",
        "W1 = np.zeros((input_neurons, hidden_layer1_neurons))\n",
        "W1[:-2, :-2] = np.random.randn(input_neurons - 2, hidden_layer1_neurons - 2)\n",
        "W1[-2:, -2:] = np.random.randn(2, 2)\n",
        "b1 = np.zeros((1,hidden_layer1_neurons))\n",
        "W2 = np.random.randn(hidden_layer1_neurons, hidden_layer2_neurons)\n",
        "b2 = np.zeros((1,hidden_layer2_neurons))\n",
        "W3 = np.random.randn(hidden_layer2_neurons, output_neurons)\n",
        "b3 = np.zeros((1,output_neurons))"
      ],
      "metadata": {
        "id": "XXR-7Tp_TYG5"
      },
      "execution_count": 9,
      "outputs": []
    },
    {
      "cell_type": "code",
      "source": [
        "def relu(x):\n",
        "    return np.maximum(0, x)\n",
        "\n",
        "def relu_derivative(x):\n",
        "    return (x > 0).astype(float)\n",
        "\n",
        "\n",
        "def mse_loss(y_true, y_pred):\n",
        "    return np.mean((y_true - y_pred) ** 2)\n",
        "\n",
        "def mse_loss_derivative(y_true, y_pred):\n",
        "    return 2 * (y_pred - y_true)"
      ],
      "metadata": {
        "id": "f9_G6HuWTYEX"
      },
      "execution_count": 10,
      "outputs": []
    },
    {
      "cell_type": "code",
      "source": [
        "def forward_pass(X):\n",
        "    Z1 = np.dot(X, W1) + b1\n",
        "    A1 = relu(Z1)\n",
        "    Z2 = np.dot(A1, W2) + b2\n",
        "    A2 = relu(Z2)\n",
        "    Z3 = np.dot(A2, W3) + b3\n",
        "    return Z1, A1, Z2, A2, Z3"
      ],
      "metadata": {
        "id": "jAYz7mGQTYB9"
      },
      "execution_count": 11,
      "outputs": []
    },
    {
      "cell_type": "code",
      "source": [
        "def backpropagation(X, y, Z1, A1, Z2, A2, Z3, learning_rate=0.001):\n",
        "    global W1, b1, W2, b2, W3, b3\n",
        "\n",
        "    m = X.shape[0]\n",
        "    dZ3 = mse_loss_derivative(y, Z3)\n",
        "    dW3 = (1 / m) * np.dot(A2.T, dZ3)\n",
        "    db3 = (1 / m) * np.sum(dZ3, axis=0)\n",
        "\n",
        "    dZ2 = np.dot(dZ3, W3.T) * relu_derivative(Z2)\n",
        "    dW2 = (1 / m) * np.dot(A1.T, dZ2)\n",
        "    db2 = (1 / m) * np.sum(dZ2, axis=0)\n",
        "\n",
        "    dZ1 = np.dot(dZ2, W2.T) * relu_derivative(Z1)\n",
        "    dW1 = (1 / m) * np.dot(X.T, dZ1)\n",
        "    db1 = (1 / m) * np.sum(dZ1, axis=0)\n",
        "\n",
        "\n",
        "    W1 -= learning_rate * dW1\n",
        "    b1 -= learning_rate * db1\n",
        "    W2 -= learning_rate * dW2\n",
        "    b2 -= learning_rate * db2\n",
        "    W3 -= learning_rate * dW3\n",
        "    b3 -= learning_rate * db3\n"
      ],
      "metadata": {
        "id": "34qbibPVTX-r"
      },
      "execution_count": 12,
      "outputs": []
    },
    {
      "cell_type": "code",
      "source": [
        "epochs = 1000\n",
        "for epoch in range(epochs):\n",
        "    Z1, A1, Z2, A2, Z3 = forward_pass(X_train)\n",
        "    loss = mse_loss(y_train, Z3)\n",
        "    backpropagation(X_train, y_train, Z1, A1, Z2, A2, Z3)\n",
        "\n",
        "    if epoch % 100 == 0:\n",
        "        print(f\"Epoch {epoch}, Loss: {loss}\")\n",
        "\n",
        "\n",
        "Z1_test, A1_test, Z2_test, A2_test, Z3_test = forward_pass(X_test)\n",
        "test_loss = mse_loss(y_test, Z3_test)\n",
        "print(f\"Test Loss: {test_loss}\")"
      ],
      "metadata": {
        "colab": {
          "base_uri": "https://localhost:8080/"
        },
        "id": "Le2La2HsVDqI",
        "outputId": "eb0eef06-5377-4b5f-e5e3-ee0ea00e771d"
      },
      "execution_count": 15,
      "outputs": [
        {
          "output_type": "stream",
          "name": "stdout",
          "text": [
            "Epoch 0, Loss: 8.741605635678068\n",
            "Epoch 100, Loss: 3.1441088825145243\n",
            "Epoch 200, Loss: 2.1239307861824095\n",
            "Epoch 300, Loss: 1.8283899450249972\n",
            "Epoch 400, Loss: 1.644708509131836\n",
            "Epoch 500, Loss: 1.5088082514586354\n",
            "Epoch 600, Loss: 1.3977193994767207\n",
            "Epoch 700, Loss: 1.2940500912880226\n",
            "Epoch 800, Loss: 1.1914400717081761\n",
            "Epoch 900, Loss: 1.0886171191381633\n",
            "Test Loss: 1.0515630249276804\n"
          ]
        }
      ]
    }
  ]
}